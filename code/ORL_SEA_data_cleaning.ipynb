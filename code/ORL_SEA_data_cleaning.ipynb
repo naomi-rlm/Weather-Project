{
 "cells": [
  {
   "cell_type": "markdown",
   "id": "08219550-a2fd-441b-b67f-f1110e6d265b",
   "metadata": {},
   "source": [
    "# Introduction"
   ]
  },
  {
   "cell_type": "markdown",
   "id": "1ae77636-32cc-4559-9b4e-254f9bf52475",
   "metadata": {},
   "source": [
    "The purpose of this code is to take the Orlando and Seattle weather data and clean and join them into one tidy data frame that only has the relavant precipation data. Precipitation data is in inches and consists of 5 years (2018-2022) and comes from one weather station in each city. Original data comes from NOAA https://www.ncei.noaa.gov/cdo-web/search;jsessionid=F63B263F76CBED355E2DFC8D9511FDB2 "
   ]
  },
  {
   "cell_type": "markdown",
   "id": "3dca6ba3-e53d-471b-b3c4-e36d4e4a6ee9",
   "metadata": {},
   "source": [
    "# Data Sources and Import"
   ]
  },
  {
   "cell_type": "code",
   "execution_count": 3,
   "id": "18c5a06a-3c52-4622-ae1f-92027de843e9",
   "metadata": {},
   "outputs": [],
   "source": [
    "# Import pandas, numpy, and matplotlib\n",
    "import pandas as pd\n",
    "import numpy as np\n",
    "     "
   ]
  },
  {
   "cell_type": "code",
   "execution_count": 4,
   "id": "b230d7c4-7f10-4542-a5f6-160bd797c867",
   "metadata": {},
   "outputs": [],
   "source": [
    "# load data sets for Seattle and Orlando precipitation\n",
    "df_seattle = pd.read_csv(\n",
    "    'https://raw.githubusercontent.com/naomi-rlm/Weather-Project/main/data/seattle_rain.csv'\n",
    ")\n",
    "df_orlando = pd.read_csv(\n",
    "     'https://raw.githubusercontent.com/naomi-rlm/Weather-Project/main/data/orlando_rain.csv'\n",
    ")"
   ]
  },
  {
   "cell_type": "markdown",
   "id": "4c4a4253-a0c8-4f77-9e78-712e6c691116",
   "metadata": {},
   "source": [
    "# Convert Data Types"
   ]
  },
  {
   "cell_type": "code",
   "execution_count": 5,
   "id": "0b43b876-5bc4-40f0-b06f-92157edd2ad9",
   "metadata": {},
   "outputs": [
    {
     "name": "stderr",
     "output_type": "stream",
     "text": [
      "C:\\Users\\naomi\\AppData\\Local\\Temp\\ipykernel_17944\\359811099.py:2: UserWarning: Could not infer format, so each element will be parsed individually, falling back to `dateutil`. To ensure parsing is consistent and as-expected, please specify a format.\n",
      "  df_seattle['DATE'] = pd.to_datetime(df_seattle['DATE'])\n"
     ]
    }
   ],
   "source": [
    "# fix date data type\n",
    "df_seattle['DATE'] = pd.to_datetime(df_seattle['DATE']) \n",
    "df_orlando['DATE'] = pd.to_datetime(df_orlando['DATE']) "
   ]
  },
  {
   "cell_type": "markdown",
   "id": "c4d86bef-e114-419d-8073-53b1e0815292",
   "metadata": {},
   "source": [
    "# Joining Dataframes"
   ]
  },
  {
   "cell_type": "code",
   "execution_count": 6,
   "id": "3b8aedf9-48d6-46ba-a721-b1e1443e23e4",
   "metadata": {},
   "outputs": [],
   "source": [
    "# outer merge with the key DATE keeping the columns DATE and PRCP\n",
    "df = df_orlando[['DATE', 'PRCP']].merge(df_seattle[['DATE', 'PRCP']], on='DATE', how='outer')"
   ]
  },
  {
   "cell_type": "code",
   "execution_count": 7,
   "id": "27796e52-52c8-467b-abc2-337675bc8494",
   "metadata": {},
   "outputs": [],
   "source": [
    "# transform data frame to have data under columns 'city' and 'precipitation' while still keeping 'DATE'\n",
    "df = pd.melt(df, id_vars='DATE', var_name='city', value_name='precipitation')"
   ]
  },
  {
   "cell_type": "code",
   "execution_count": 8,
   "id": "3d1a4301-eed6-408b-8e05-459181d86929",
   "metadata": {},
   "outputs": [
    {
     "data": {
      "text/html": [
       "<div>\n",
       "<style scoped>\n",
       "    .dataframe tbody tr th:only-of-type {\n",
       "        vertical-align: middle;\n",
       "    }\n",
       "\n",
       "    .dataframe tbody tr th {\n",
       "        vertical-align: top;\n",
       "    }\n",
       "\n",
       "    .dataframe thead th {\n",
       "        text-align: right;\n",
       "    }\n",
       "</style>\n",
       "<table border=\"1\" class=\"dataframe\">\n",
       "  <thead>\n",
       "    <tr style=\"text-align: right;\">\n",
       "      <th></th>\n",
       "      <th>DATE</th>\n",
       "      <th>city</th>\n",
       "      <th>precipitation</th>\n",
       "    </tr>\n",
       "  </thead>\n",
       "  <tbody>\n",
       "    <tr>\n",
       "      <th>0</th>\n",
       "      <td>2018-01-01</td>\n",
       "      <td>PRCP_x</td>\n",
       "      <td>0.04</td>\n",
       "    </tr>\n",
       "    <tr>\n",
       "      <th>1</th>\n",
       "      <td>2018-01-02</td>\n",
       "      <td>PRCP_x</td>\n",
       "      <td>0.01</td>\n",
       "    </tr>\n",
       "    <tr>\n",
       "      <th>2</th>\n",
       "      <td>2018-01-03</td>\n",
       "      <td>PRCP_x</td>\n",
       "      <td>1.02</td>\n",
       "    </tr>\n",
       "    <tr>\n",
       "      <th>3</th>\n",
       "      <td>2018-01-04</td>\n",
       "      <td>PRCP_x</td>\n",
       "      <td>0.00</td>\n",
       "    </tr>\n",
       "    <tr>\n",
       "      <th>4</th>\n",
       "      <td>2018-01-05</td>\n",
       "      <td>PRCP_x</td>\n",
       "      <td>0.00</td>\n",
       "    </tr>\n",
       "  </tbody>\n",
       "</table>\n",
       "</div>"
      ],
      "text/plain": [
       "        DATE    city  precipitation\n",
       "0 2018-01-01  PRCP_x           0.04\n",
       "1 2018-01-02  PRCP_x           0.01\n",
       "2 2018-01-03  PRCP_x           1.02\n",
       "3 2018-01-04  PRCP_x           0.00\n",
       "4 2018-01-05  PRCP_x           0.00"
      ]
     },
     "execution_count": 8,
     "metadata": {},
     "output_type": "execute_result"
    }
   ],
   "source": [
    "# checking to make sure join was succesful\n",
    "df.head()"
   ]
  },
  {
   "cell_type": "markdown",
   "id": "f4a94b8f-e0ed-488a-abd8-07dd570b0a95",
   "metadata": {},
   "source": [
    "# Renaming for Tidy Data"
   ]
  },
  {
   "cell_type": "code",
   "execution_count": 9,
   "id": "f7d41ab7-e0eb-44f5-87d4-5cffd1c1b054",
   "metadata": {},
   "outputs": [],
   "source": [
    "# change PRCP_x and PRCP_y to their actual city codes\n",
    "df.loc[df['city'] == 'PRCP_x', 'city'] = 'ORL'\n",
    "df.loc[df['city'] == 'PRCP_y', 'city'] = 'SEA'"
   ]
  },
  {
   "cell_type": "code",
   "execution_count": 10,
   "id": "1ab9f2de-830e-41c2-a9eb-cff26229856f",
   "metadata": {},
   "outputs": [],
   "source": [
    "# decapitaize 'DATE' column to make data frame column names more uniform\n",
    "df = df.rename(columns={'DATE': 'date'})"
   ]
  },
  {
   "cell_type": "markdown",
   "id": "cabf18e7-0613-4b4a-bd8f-51bf3f9d7ac3",
   "metadata": {},
   "source": [
    "# Handle Missing Values in Dataframe"
   ]
  },
  {
   "cell_type": "code",
   "execution_count": 11,
   "id": "3017a499-a5c3-44c7-a370-5f4c3e88d8ce",
   "metadata": {},
   "outputs": [
    {
     "data": {
      "text/plain": [
       "date               0\n",
       "city               0\n",
       "precipitation    192\n",
       "dtype: int64"
      ]
     },
     "execution_count": 11,
     "metadata": {},
     "output_type": "execute_result"
    }
   ],
   "source": [
    "# determining the number NAs in the data frame for Seattle and Orlando\n",
    "df.isna().sum()"
   ]
  },
  {
   "cell_type": "code",
   "execution_count": 12,
   "id": "ff421c8b-e1ec-45b2-b419-fbf36a2c91e3",
   "metadata": {},
   "outputs": [
    {
     "data": {
      "text/plain": [
       "np.int64(190)"
      ]
     },
     "execution_count": 12,
     "metadata": {},
     "output_type": "execute_result"
    }
   ],
   "source": [
    "# NAs just for Seattle\n",
    "df.loc[df['city'] == 'SEA', 'precipitation'].isna().sum()"
   ]
  },
  {
   "cell_type": "code",
   "execution_count": 13,
   "id": "e20556a9-10c9-471a-9d7e-a384ca4b2905",
   "metadata": {},
   "outputs": [
    {
     "data": {
      "text/plain": [
       "np.int64(2)"
      ]
     },
     "execution_count": 13,
     "metadata": {},
     "output_type": "execute_result"
    }
   ],
   "source": [
    "#NAs just for Orlando\n",
    "df.loc[df['city'] == 'ORL', 'precipitation'].isna().sum()"
   ]
  },
  {
   "cell_type": "code",
   "execution_count": 14,
   "id": "4222f0b9-6ca1-478e-9e64-68d09758044b",
   "metadata": {},
   "outputs": [],
   "source": [
    "# define a column that labels each day by the day of the year\n",
    "df['day_of_year'] = pd.DatetimeIndex(df['date']).day_of_year"
   ]
  },
  {
   "cell_type": "code",
   "execution_count": 18,
   "id": "0ff84500-8f0d-4803-8ffb-a7fa8346c77e",
   "metadata": {},
   "outputs": [],
   "source": [
    "# mean precipitation for each day in Seattle, averaged across years\n",
    "# replace missing days for each city with their average\n",
    "mean_day_by_city = (df.groupby(['city','day_of_year'])['precipitation'].mean())\n",
    "df.loc[df['precipitation'].isna(),'precipitation'] = (\n",
    "    df[df['precipitation'].isna()].apply(lambda r: mean_day_by_city.loc[(r['city'], r['day_of_year'])], axis=1)\n",
    ")"
   ]
  },
  {
   "cell_type": "code",
   "execution_count": 19,
   "id": "72c0873d-91d4-4a99-8d6c-ac53a653d729",
   "metadata": {},
   "outputs": [
    {
     "data": {
      "text/plain": [
       "date             0\n",
       "city             0\n",
       "precipitation    0\n",
       "day_of_year      0\n",
       "dtype: int64"
      ]
     },
     "execution_count": 19,
     "metadata": {},
     "output_type": "execute_result"
    }
   ],
   "source": [
    "# making sure NAs have all been replaced\n",
    "df.isna().sum()"
   ]
  },
  {
   "cell_type": "code",
   "execution_count": 22,
   "id": "54855668-8ed9-48b1-8cc7-1d161d55bba2",
   "metadata": {},
   "outputs": [],
   "source": [
    "# exporting tidy df\n",
    "df.to_csv('clean_seattle_orlando_weather.csv', encoding='utf-8-sig', index=False)"
   ]
  },
  {
   "cell_type": "code",
   "execution_count": 23,
   "id": "42b13764-9b07-4966-bd7b-8aa0e9be6d7c",
   "metadata": {},
   "outputs": [
    {
     "data": {
      "text/plain": [
       "'C:\\\\Users\\\\naomi\\\\Desktop\\\\DATA5100\\\\weather\\\\code'"
      ]
     },
     "execution_count": 23,
     "metadata": {},
     "output_type": "execute_result"
    }
   ],
   "source": [
    "import os\n",
    "os.getcwd()"
   ]
  }
 ],
 "metadata": {
  "kernelspec": {
   "display_name": "Python 3 (ipykernel)",
   "language": "python",
   "name": "python3"
  },
  "language_info": {
   "codemirror_mode": {
    "name": "ipython",
    "version": 3
   },
   "file_extension": ".py",
   "mimetype": "text/x-python",
   "name": "python",
   "nbconvert_exporter": "python",
   "pygments_lexer": "ipython3",
   "version": "3.13.5"
  }
 },
 "nbformat": 4,
 "nbformat_minor": 5
}
